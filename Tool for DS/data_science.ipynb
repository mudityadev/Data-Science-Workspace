{
 "cells": [
  {
   "cell_type": "markdown",
   "id": "4b533028",
   "metadata": {},
   "source": [
    "# Data Science "
   ]
  },
  {
   "cell_type": "raw",
   "id": "6a66fc62",
   "metadata": {},
   "source": [
    " 💹 Data Science Life Cycle\n",
    "\n",
    "=> Data Acquisition (pdf,word file, pics, videos) \n",
    "=> Data Pre-Processing (dataware house -> all in one -> clean and target data) and Data Manipulation         and Visualization\n",
    "=> ML Algorithm () -> superwised and unsuperwised learning\n",
    "    -> classification\n",
    "    -> regression\n",
    "    -> clustering\n",
    "=> Pattern Evalution \n",
    "=> Knowledge Representation"
   ]
  },
  {
   "cell_type": "code",
   "execution_count": null,
   "id": "d4f8706d",
   "metadata": {},
   "outputs": [],
   "source": []
  },
  {
   "cell_type": "code",
   "execution_count": null,
   "id": "920edea6",
   "metadata": {},
   "outputs": [],
   "source": []
  }
 ],
 "metadata": {
  "kernelspec": {
   "display_name": "Python 3 (ipykernel)",
   "language": "python",
   "name": "python3"
  },
  "language_info": {
   "codemirror_mode": {
    "name": "ipython",
    "version": 3
   },
   "file_extension": ".py",
   "mimetype": "text/x-python",
   "name": "python",
   "nbconvert_exporter": "python",
   "pygments_lexer": "ipython3",
   "version": "3.9.13"
  }
 },
 "nbformat": 4,
 "nbformat_minor": 5
}
