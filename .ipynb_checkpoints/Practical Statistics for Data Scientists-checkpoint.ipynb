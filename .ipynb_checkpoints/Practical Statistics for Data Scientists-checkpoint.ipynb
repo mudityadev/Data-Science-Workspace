{
 "cells": [
  {
   "cell_type": "markdown",
   "id": "5c1f9881",
   "metadata": {},
   "source": [
    "# 📊📉📈 Practical Statistics for Data Scientists\n",
    "![book](https://miro.medium.com/max/1400/1*m73HLlXV9EvDP_DRFsc-1g.jpeg)"
   ]
  },
  {
   "cell_type": "markdown",
   "id": "a79a45ab",
   "metadata": {},
   "source": [
    "### Chapter 1 : Exploratory Data Analysis\n",
    "\n",
    "#### Structured Data\n",
    "1. Numerical\n",
    "    1. Continuous - indefinitely divided (i.e. Weight)\n",
    "    2. Discrete - can't divide (i.e. DOB)\n",
    "2. Categorial\n",
    "    1. Binary - Two option (are you married)\n",
    "    2. Ordinal - orders matter\n",
    "\n",
    "- Rectangular Data\n",
    "    - DataFrame and Indexes\n",
    "\n",
    "    \n",
    "![rect data](https://pltfrmrsrcscdn.sagepub.com/srm/images/research-methodology-in-the-social-behavioural-and-life-sciences/43_1.jpg)\n",
    "    \n",
    "- Non-Rectangular Data (Spatial Data)\n",
    "    - Object Representation\n",
    "    - Field Representation\n",
    "    "
   ]
  },
  {
   "cell_type": "markdown",
   "id": "55240a78",
   "metadata": {},
   "source": [
    "2021 Olympics in Tokyo Dataset - https://www.kaggle.com/datasets/arjunprasadsarkhel/2021-olympics-in-tokyo"
   ]
  },
  {
   "cell_type": "code",
   "execution_count": null,
   "id": "478ed3f2",
   "metadata": {},
   "outputs": [],
   "source": []
  }
 ],
 "metadata": {
  "kernelspec": {
   "display_name": "Python 3 (ipykernel)",
   "language": "python",
   "name": "python3"
  },
  "language_info": {
   "codemirror_mode": {
    "name": "ipython",
    "version": 3
   },
   "file_extension": ".py",
   "mimetype": "text/x-python",
   "name": "python",
   "nbconvert_exporter": "python",
   "pygments_lexer": "ipython3",
   "version": "3.9.13"
  }
 },
 "nbformat": 4,
 "nbformat_minor": 5
}
