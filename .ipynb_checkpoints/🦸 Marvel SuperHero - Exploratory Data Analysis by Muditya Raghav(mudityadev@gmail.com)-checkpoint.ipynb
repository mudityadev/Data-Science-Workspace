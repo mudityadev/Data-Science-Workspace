{
 "cells": [
  {
   "cell_type": "markdown",
   "id": "4d3f66bd",
   "metadata": {},
   "source": [
    "# 🦸🏻‍♂️ Marvel SuperHero | Exploratory Data Analysis by Muditya Raghav"
   ]
  },
  {
   "cell_type": "code",
   "execution_count": 1,
   "id": "7ca85d22",
   "metadata": {},
   "outputs": [],
   "source": [
    "# loading the libraries\n",
    "import pandas as pd\n",
    "from matplotlib import pyplot as plt"
   ]
  },
  {
   "cell_type": "code",
   "execution_count": 2,
   "id": "9d0c2474",
   "metadata": {},
   "outputs": [],
   "source": [
    "marvel = pd.read_csv(\"characters.csv\")"
   ]
  },
  {
   "cell_type": "code",
   "execution_count": 3,
   "id": "5228ec6a",
   "metadata": {},
   "outputs": [
    {
     "data": {
      "text/plain": [
       "(1170, 2)"
      ]
     },
     "execution_count": 3,
     "metadata": {},
     "output_type": "execute_result"
    }
   ],
   "source": [
    "marvel.shape"
   ]
  },
  {
   "cell_type": "code",
   "execution_count": 7,
   "id": "609cdf99",
   "metadata": {},
   "outputs": [
    {
     "name": "stdout",
     "output_type": "stream",
     "text": [
      "characterID\n",
      "name\n"
     ]
    }
   ],
   "source": [
    "for c in marvel.columns:\n",
    "    print(c)"
   ]
  },
  {
   "cell_type": "code",
   "execution_count": 9,
   "id": "ac376f59",
   "metadata": {},
   "outputs": [],
   "source": [
    "# end"
   ]
  },
  {
   "cell_type": "code",
   "execution_count": null,
   "id": "81ad9602",
   "metadata": {},
   "outputs": [],
   "source": []
  }
 ],
 "metadata": {
  "kernelspec": {
   "display_name": "Python 3 (ipykernel)",
   "language": "python",
   "name": "python3"
  },
  "language_info": {
   "codemirror_mode": {
    "name": "ipython",
    "version": 3
   },
   "file_extension": ".py",
   "mimetype": "text/x-python",
   "name": "python",
   "nbconvert_exporter": "python",
   "pygments_lexer": "ipython3",
   "version": "3.9.13"
  }
 },
 "nbformat": 4,
 "nbformat_minor": 5
}
